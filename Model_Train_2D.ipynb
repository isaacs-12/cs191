{
 "cells": [
  {
   "cell_type": "code",
   "execution_count": 1,
   "metadata": {},
   "outputs": [],
   "source": [
    "import pickle\n",
    "import pandas as pd\n",
    "import tensorflow as tf\n",
    "from tensorflow import keras\n",
    "from tensorflow.keras import layers\n",
    "import random\n",
    "import os\n",
    "import cv2\n",
    "import numpy as np\n",
    "from nibabel.testing import data_path\n",
    "import nibabel as nib\n",
    "import matplotlib.pyplot as plt\n",
    "import time"
   ]
  },
  {
   "cell_type": "code",
   "execution_count": 2,
   "metadata": {},
   "outputs": [],
   "source": [
    "types = ['flair','t1','t1Gd','t2',\n",
    "         'ManuallyCorrected','GlistrBoost']\n",
    "cur_dir = os.getcwd()\n",
    "data_dir = os.path.join(cur_dir, \"Data/\")\n",
    "flair_path = os.path.join(data_dir, 'flair')\n",
    "flair_files = os.listdir(flair_path)\n",
    "img = nib.load(os.path.join(flair_path, flair_files[0]))"
   ]
  },
  {
   "cell_type": "code",
   "execution_count": 4,
   "metadata": {},
   "outputs": [],
   "source": [
    "flair_data_path = os.path.join(data_dir, 'flair')\n",
    "t1_data_path = os.path.join(data_dir, 't1')\n",
    "t1gd_data_path = os.path.join(data_dir, 't1Gd')\n",
    "t2_data_path = os.path.join(data_dir, 't2')\n",
    "mask_data_path = os.path.join(data_dir, 'ManuallyCorrected')\n",
    "\n",
    "flair_files = os.listdir(flair_path)\n",
    "t1_files = os.listdir(t1_data_path)\n",
    "t1gd_files = os.listdir(t1gd_data_path)\n",
    "t2_files = os.listdir(t2_data_path)\n",
    "mask_files = os.listdir(mask_data_path)\n",
    "\n",
    "hdd_data_dir = \"/Volumes/TumorData/Data\"\n",
    "numpy_dest = os.path.join(hdd_data_dir, \"NumpyArraysLSmall2D\")\n"
   ]
  },
  {
   "cell_type": "code",
   "execution_count": 16,
   "metadata": {},
   "outputs": [
    {
     "data": {
      "text/plain": [
       "['Flair_Array_0_Classes.npy',\n",
       " 'Flair_Array_0_Features.npy',\n",
       " 'Flair_Array_1_Classes.npy',\n",
       " 'Flair_Array_1_Features.npy',\n",
       " 'Flair_Array_2_Classes.npy',\n",
       " 'Flair_Array_2_Features.npy',\n",
       " 'Flair_Array_3_Classes.npy',\n",
       " 'Flair_Array_3_Features.npy',\n",
       " 'Flair_Array_4_Classes.npy',\n",
       " 'Flair_Array_4_Features.npy',\n",
       " 'Flair_Array_5_Classes.npy',\n",
       " 'Flair_Array_5_Features.npy',\n",
       " 'Flair_Array_6_Classes.npy',\n",
       " 'Flair_Array_6_Features.npy',\n",
       " 'Flair_Array_7_Classes.npy',\n",
       " 'Flair_Array_7_Features.npy',\n",
       " 'Flair_Array_8_Classes.npy',\n",
       " 'Flair_Array_8_Features.npy',\n",
       " 'Flair_Array_9_Classes.npy',\n",
       " 'Flair_Array_9_Features.npy',\n",
       " 'Flair_Array_10_Classes.npy',\n",
       " 'Flair_Array_10_Features.npy',\n",
       " 'Flair_Array_11_Classes.npy',\n",
       " 'Flair_Array_11_Features.npy',\n",
       " 'Flair_Array_12_Classes.npy',\n",
       " 'Flair_Array_12_Features.npy',\n",
       " 'Flair_Array_13_Classes.npy',\n",
       " 'Flair_Array_13_Features.npy',\n",
       " 'Flair_Array_14_Classes.npy',\n",
       " 'Flair_Array_14_Features.npy',\n",
       " 'Flair_Array_15_Classes.npy',\n",
       " 'Flair_Array_15_Features.npy',\n",
       " 'Flair_Array_16_Classes.npy',\n",
       " 'Flair_Array_16_Features.npy',\n",
       " 'Flair_Array_17_Classes.npy',\n",
       " 'Flair_Array_17_Features.npy',\n",
       " 'Flair_Array_18_Classes.npy',\n",
       " 'Flair_Array_18_Features.npy',\n",
       " 'Flair_Array_19_Classes.npy',\n",
       " 'Flair_Array_19_Features.npy',\n",
       " 'Flair_Array_20_Classes.npy',\n",
       " 'Flair_Array_20_Features.npy',\n",
       " 'Flair_Array_21_Classes.npy',\n",
       " 'Flair_Array_21_Features.npy',\n",
       " 'Flair_Array_22_Classes.npy',\n",
       " 'Flair_Array_22_Features.npy',\n",
       " 'Flair_Array_23_Classes.npy',\n",
       " 'Flair_Array_23_Features.npy',\n",
       " 'Flair_Array_24_Classes.npy',\n",
       " 'Flair_Array_24_Features.npy',\n",
       " 'Flair_Array_25_Classes.npy',\n",
       " 'Flair_Array_25_Features.npy',\n",
       " 'Flair_Array_26_Classes.npy',\n",
       " 'Flair_Array_26_Features.npy',\n",
       " 'Flair_Array_27_Classes.npy',\n",
       " 'Flair_Array_27_Features.npy',\n",
       " 'Flair_Array_28_Classes.npy',\n",
       " 'Flair_Array_28_Features.npy',\n",
       " 'Flair_Array_29_Classes.npy',\n",
       " 'Flair_Array_29_Features.npy',\n",
       " 'Flair_Array_30_Classes.npy',\n",
       " 'Flair_Array_30_Features.npy',\n",
       " 'Flair_Array_31_Classes.npy',\n",
       " 'Flair_Array_31_Features.npy',\n",
       " 'Flair_Array_32_Classes.npy',\n",
       " 'Flair_Array_32_Features.npy',\n",
       " 'Flair_Array_33_Classes.npy',\n",
       " 'Flair_Array_33_Features.npy',\n",
       " 'Flair_Array_35_Classes.npy',\n",
       " 'Flair_Array_35_Features.npy',\n",
       " 'Flair_Array_36_Classes.npy',\n",
       " 'Flair_Array_36_Features.npy',\n",
       " 'Flair_Array_37_Classes.npy',\n",
       " 'Flair_Array_37_Features.npy',\n",
       " 'Flair_Array_38_Classes.npy',\n",
       " 'Flair_Array_38_Features.npy',\n",
       " 'Flair_Array_39_Classes.npy',\n",
       " 'Flair_Array_39_Features.npy',\n",
       " 'Flair_Array_40_Classes.npy',\n",
       " 'Flair_Array_40_Features.npy',\n",
       " 'Flair_Array_41_Classes.npy',\n",
       " 'Flair_Array_41_Features.npy',\n",
       " 'Flair_Array_42_Classes.npy',\n",
       " 'Flair_Array_42_Features.npy',\n",
       " 'Flair_Array_43_Classes.npy',\n",
       " 'Flair_Array_43_Features.npy',\n",
       " 'Flair_Array_44_Classes.npy',\n",
       " 'Flair_Array_44_Features.npy',\n",
       " 'Flair_Array_45_Classes.npy',\n",
       " 'Flair_Array_45_Features.npy',\n",
       " 'Flair_Array_46_Classes.npy',\n",
       " 'Flair_Array_46_Features.npy',\n",
       " 'Flair_Array_47_Classes.npy',\n",
       " 'Flair_Array_47_Features.npy',\n",
       " 'Flair_Array_48_Classes.npy',\n",
       " 'Flair_Array_48_Features.npy',\n",
       " 'Flair_Array_49_Classes.npy',\n",
       " 'Flair_Array_49_Features.npy',\n",
       " 'Flair_Array_50_Classes.npy',\n",
       " 'Flair_Array_50_Features.npy',\n",
       " 'Flair_Array_51_Classes.npy',\n",
       " 'Flair_Array_51_Features.npy',\n",
       " 'Flair_Array_52_Classes.npy',\n",
       " 'Flair_Array_52_Features.npy',\n",
       " 'Flair_Array_53_Classes.npy',\n",
       " 'Flair_Array_53_Features.npy',\n",
       " 'Flair_Array_54_Classes.npy',\n",
       " 'Flair_Array_54_Features.npy',\n",
       " 'Flair_Array_55_Classes.npy',\n",
       " 'Flair_Array_55_Features.npy',\n",
       " 'Flair_Array_56_Classes.npy',\n",
       " 'Flair_Array_56_Features.npy',\n",
       " 'Flair_Array_57_Classes.npy',\n",
       " 'Flair_Array_57_Features.npy',\n",
       " 'Flair_Array_58_Classes.npy',\n",
       " 'Flair_Array_58_Features.npy',\n",
       " 'Flair_Array_59_Classes.npy',\n",
       " 'Flair_Array_59_Features.npy',\n",
       " 'Flair_Array_62_Classes.npy',\n",
       " 'Flair_Array_62_Features.npy',\n",
       " 'Flair_Array_63_Classes.npy',\n",
       " 'Flair_Array_63_Features.npy',\n",
       " 'Flair_Array_64_Classes.npy',\n",
       " 'Flair_Array_64_Features.npy']"
      ]
     },
     "execution_count": 16,
     "metadata": {},
     "output_type": "execute_result"
    }
   ],
   "source": [
    "# Load the data from files:\n",
    "\n",
    "\n",
    "\n",
    "numpy_files = os.listdir(numpy_dest)\n",
    "numpy_files"
   ]
  },
  {
   "cell_type": "code",
   "execution_count": 17,
   "metadata": {},
   "outputs": [],
   "source": [
    "training_size = 30\n",
    "indices = range(int(len(numpy_files)/2))\n",
    "flair_train_indices = random.sample(indices, k=training_size)\n",
    "flair_test_indices = [i for i in indices if i not in flair_train_indices]"
   ]
  },
  {
   "cell_type": "code",
   "execution_count": 22,
   "metadata": {},
   "outputs": [],
   "source": [
    "flair_training_features = np.zeros((1,5,5))\n",
    "flair_testing_features = np.zeros((1,5,5))\n",
    "\n",
    "flair_training_classifications = np.zeros((1))\n",
    "flair_testing_classifications = np.zeros((1))\n",
    "\n",
    "for np_file in numpy_files:\n",
    "    handle = np_file.split('.')[0]\n",
    "    [image_type, dtype, study_no, xy] = handle.split('_')\n",
    "    temp_arr = np.array(np.load(os.path.join(numpy_dest, np_file)))\n",
    "#     print (temp_arr)\n",
    "    if int(study_no) in flair_train_indices:\n",
    "        if xy == 'Features':\n",
    "            flair_training_features = np.concatenate((flair_training_features, temp_arr))\n",
    "        else:\n",
    "            flair_training_classifications = np.concatenate((flair_training_classifications, temp_arr))\n",
    "    else:\n",
    "        \n",
    "        if xy == 'Features':\n",
    "            flair_testing_features = np.concatenate((flair_testing_features, temp_arr))\n",
    "        else:\n",
    "            flair_testing_classifications = np.concatenate((flair_testing_classifications, temp_arr))"
   ]
  },
  {
   "cell_type": "code",
   "execution_count": 48,
   "metadata": {},
   "outputs": [
    {
     "name": "stdout",
     "output_type": "stream",
     "text": [
      "[(4186246, 5, 5, 1), (4186246,), (4783350, 5, 5, 1), (4783350,)]\n"
     ]
    }
   ],
   "source": [
    "shapes = [flair_training_features.shape, flair_training_classifications.shape, flair_testing_features.shape, flair_testing_classifications.shape]\n",
    "print (shapes)"
   ]
  },
  {
   "cell_type": "code",
   "execution_count": 47,
   "metadata": {},
   "outputs": [
    {
     "ename": "ValueError",
     "evalue": "too many values to unpack (expected 3)",
     "output_type": "error",
     "traceback": [
      "\u001b[0;31m---------------------------------------------------------------------------\u001b[0m",
      "\u001b[0;31mValueError\u001b[0m                                Traceback (most recent call last)",
      "\u001b[0;32m<ipython-input-47-12ccbe19e532>\u001b[0m in \u001b[0;36m<module>\u001b[0;34m\u001b[0m\n\u001b[1;32m      7\u001b[0m     \u001b[0;32mreturn\u001b[0m \u001b[0mto_return\u001b[0m\u001b[0;34m\u001b[0m\u001b[0;34m\u001b[0m\u001b[0m\n\u001b[1;32m      8\u001b[0m \u001b[0;34m\u001b[0m\u001b[0m\n\u001b[0;32m----> 9\u001b[0;31m \u001b[0;34m[\u001b[0m\u001b[0mflair_training_features\u001b[0m\u001b[0;34m,\u001b[0m \u001b[0mflair_testing_features\u001b[0m\u001b[0;34m]\u001b[0m \u001b[0;34m=\u001b[0m \u001b[0mresize_data\u001b[0m\u001b[0;34m(\u001b[0m\u001b[0;34m[\u001b[0m\u001b[0mflair_training_features\u001b[0m\u001b[0;34m,\u001b[0m \u001b[0mflair_testing_features\u001b[0m\u001b[0;34m]\u001b[0m\u001b[0;34m)\u001b[0m\u001b[0;34m\u001b[0m\u001b[0;34m\u001b[0m\u001b[0m\n\u001b[0m\u001b[1;32m     10\u001b[0m \u001b[0mshapes\u001b[0m \u001b[0;34m=\u001b[0m \u001b[0;34m[\u001b[0m\u001b[0mflair_training_features\u001b[0m\u001b[0;34m.\u001b[0m\u001b[0mshape\u001b[0m\u001b[0;34m,\u001b[0m \u001b[0mflair_training_classifications\u001b[0m\u001b[0;34m.\u001b[0m\u001b[0mshape\u001b[0m\u001b[0;34m,\u001b[0m \u001b[0mflair_testing_features\u001b[0m\u001b[0;34m.\u001b[0m\u001b[0mshape\u001b[0m\u001b[0;34m,\u001b[0m \u001b[0mflair_testing_classifications\u001b[0m\u001b[0;34m.\u001b[0m\u001b[0mshape\u001b[0m\u001b[0;34m]\u001b[0m\u001b[0;34m\u001b[0m\u001b[0;34m\u001b[0m\u001b[0m\n\u001b[1;32m     11\u001b[0m \u001b[0mprint\u001b[0m \u001b[0;34m(\u001b[0m\u001b[0mshapes\u001b[0m\u001b[0;34m)\u001b[0m\u001b[0;34m\u001b[0m\u001b[0;34m\u001b[0m\u001b[0m\n",
      "\u001b[0;32m<ipython-input-47-12ccbe19e532>\u001b[0m in \u001b[0;36mresize_data\u001b[0;34m(data_list)\u001b[0m\n\u001b[1;32m      2\u001b[0m     \u001b[0mto_return\u001b[0m \u001b[0;34m=\u001b[0m \u001b[0;34m[\u001b[0m\u001b[0;34m]\u001b[0m\u001b[0;34m\u001b[0m\u001b[0;34m\u001b[0m\u001b[0m\n\u001b[1;32m      3\u001b[0m     \u001b[0;32mfor\u001b[0m \u001b[0marray\u001b[0m \u001b[0;32min\u001b[0m \u001b[0mdata_list\u001b[0m\u001b[0;34m:\u001b[0m\u001b[0;34m\u001b[0m\u001b[0;34m\u001b[0m\u001b[0m\n\u001b[0;32m----> 4\u001b[0;31m         \u001b[0;34m(\u001b[0m\u001b[0mdim_0\u001b[0m\u001b[0;34m,\u001b[0m \u001b[0mdim_1\u001b[0m\u001b[0;34m,\u001b[0m \u001b[0mdim_2\u001b[0m\u001b[0;34m)\u001b[0m \u001b[0;34m=\u001b[0m \u001b[0marray\u001b[0m\u001b[0;34m.\u001b[0m\u001b[0mshape\u001b[0m\u001b[0;34m\u001b[0m\u001b[0;34m\u001b[0m\u001b[0m\n\u001b[0m\u001b[1;32m      5\u001b[0m         \u001b[0mnew_arr\u001b[0m \u001b[0;34m=\u001b[0m \u001b[0marray\u001b[0m\u001b[0;34m.\u001b[0m\u001b[0mreshape\u001b[0m\u001b[0;34m(\u001b[0m\u001b[0mdim_0\u001b[0m\u001b[0;34m,\u001b[0m \u001b[0mdim_1\u001b[0m\u001b[0;34m,\u001b[0m \u001b[0mdim_2\u001b[0m\u001b[0;34m,\u001b[0m \u001b[0;36m1\u001b[0m\u001b[0;34m)\u001b[0m\u001b[0;34m\u001b[0m\u001b[0;34m\u001b[0m\u001b[0m\n\u001b[1;32m      6\u001b[0m         \u001b[0mto_return\u001b[0m\u001b[0;34m.\u001b[0m\u001b[0mappend\u001b[0m\u001b[0;34m(\u001b[0m\u001b[0mnew_arr\u001b[0m\u001b[0;34m)\u001b[0m\u001b[0;34m\u001b[0m\u001b[0;34m\u001b[0m\u001b[0m\n",
      "\u001b[0;31mValueError\u001b[0m: too many values to unpack (expected 3)"
     ]
    }
   ],
   "source": [
    "\n",
    "def resize_data(data_list):\n",
    "    to_return = []\n",
    "    for array in data_list:\n",
    "        (dim_0, dim_1, dim_2) = array.shape\n",
    "        new_arr = array.reshape(dim_0, dim_1, dim_2, 1)\n",
    "        to_return.append(new_arr)\n",
    "    return to_return\n",
    "\n",
    "[flair_training_features, flair_testing_features] = resize_data([flair_training_features, flair_testing_features])\n",
    "shapes = [flair_training_features.shape, flair_training_classifications.shape, flair_testing_features.shape, flair_testing_classifications.shape]\n",
    "print (shapes)"
   ]
  },
  {
   "cell_type": "code",
   "execution_count": 49,
   "metadata": {},
   "outputs": [],
   "source": [
    "'''\n",
    "  A simple Conv2D example with Keras\n",
    "'''\n",
    "import keras\n",
    "from keras.models import Sequential\n",
    "from keras.layers import Dense, Flatten, Conv2D, MaxPooling2D\n",
    "from keras.utils import to_categorical\n",
    "import h5py\n",
    "import matplotlib.pyplot as plt"
   ]
  },
  {
   "cell_type": "code",
   "execution_count": 64,
   "metadata": {},
   "outputs": [],
   "source": [
    "# -- Preparatory code --\n",
    "# Model configuration\n",
    "batch_size = 1000\n",
    "no_epochs = 10\n",
    "learning_rate = 0.0005\n",
    "no_classes = 2\n",
    "validation_split = 0.15\n",
    "verbosity = 1\n",
    "shuffle_buffer_size = 100"
   ]
  },
  {
   "cell_type": "code",
   "execution_count": 65,
   "metadata": {},
   "outputs": [],
   "source": [
    "# Determine sample shape\n",
    "sample_shape = flair_training_features.shape[1:]\n",
    "# sample_shape = (1000, 5, 5)"
   ]
  },
  {
   "cell_type": "code",
   "execution_count": 66,
   "metadata": {},
   "outputs": [],
   "source": [
    "train_dataset = tf.data.Dataset.from_tensor_slices((flair_training_features, flair_training_classifications))\n",
    "test_dataset =  tf.data.Dataset.from_tensor_slices((flair_testing_features, flair_testing_classifications))\n",
    "\n",
    "train_dataset = train_dataset.shuffle(shuffle_buffer_size).batch(batch_size)\n",
    "test_dataset = test_dataset.batch(batch_size)"
   ]
  },
  {
   "cell_type": "code",
   "execution_count": 67,
   "metadata": {},
   "outputs": [],
   "source": [
    "# Create the model\n",
    "model = Sequential()\n",
    "model.add(Conv2D(32, kernel_size=(3,3), activation='relu', input_shape=sample_shape))\n",
    "model.add(MaxPooling2D(pool_size=(2, 2)))\n",
    "# model.add(Conv2D(30, kernel_size=(3,3), activation='relu', kernel_initializer='he_uniform', data_format='channels_last', input_shape=sample_shape))\n",
    "# model.add(MaxPooling2D(pool_size=(2, 2)))\n",
    "\n",
    "model.add(Flatten())\n",
    "model.add(Dense(256, activation='relu', kernel_initializer='he_uniform'))\n",
    "model.add(Dense(no_classes, activation='softmax'))"
   ]
  },
  {
   "cell_type": "code",
   "execution_count": 68,
   "metadata": {},
   "outputs": [],
   "source": [
    "# Compile the model\n",
    "model.compile(loss=keras.losses.binary_crossentropy,\n",
    "              optimizer=keras.optimizers.Adam(lr=learning_rate),\n",
    "              metrics=['accuracy'])\n"
   ]
  },
  {
   "cell_type": "code",
   "execution_count": 69,
   "metadata": {},
   "outputs": [
    {
     "name": "stdout",
     "output_type": "stream",
     "text": [
      "Epoch 1/10\n",
      "419/419 [==============================] - 26s 62ms/step - loss: 2.3131 - accuracy: 0.4979 - val_loss: 1.2035 - val_accuracy: 0.3829\n",
      "Epoch 2/10\n",
      "419/419 [==============================] - 26s 63ms/step - loss: 1.4794 - accuracy: 0.4596 - val_loss: 1.0380 - val_accuracy: 0.6052\n",
      "Epoch 3/10\n",
      "419/419 [==============================] - 27s 66ms/step - loss: 5.4637 - accuracy: 0.7700 - val_loss: 6.2168 - val_accuracy: 0.1094\n",
      "Epoch 4/10\n",
      "419/419 [==============================] - 26s 63ms/step - loss: 1.7963 - accuracy: 0.4648 - val_loss: 1.1101 - val_accuracy: 0.5115\n",
      "Epoch 5/10\n",
      "419/419 [==============================] - 26s 63ms/step - loss: 1.6655 - accuracy: 0.5531 - val_loss: 1.0365 - val_accuracy: 0.4680\n",
      "Epoch 6/10\n",
      "419/419 [==============================] - 27s 64ms/step - loss: 1.3166 - accuracy: 0.5029 - val_loss: 0.9581 - val_accuracy: 0.4400\n",
      "Epoch 7/10\n",
      "419/419 [==============================] - 26s 62ms/step - loss: 1.2795 - accuracy: 0.4881 - val_loss: 0.9142 - val_accuracy: 0.4859\n",
      "Epoch 8/10\n",
      "419/419 [==============================] - 27s 64ms/step - loss: 2.0613 - accuracy: 0.4488 - val_loss: 0.9659 - val_accuracy: 0.6675\n",
      "Epoch 9/10\n",
      "419/419 [==============================] - 26s 63ms/step - loss: 1.8143 - accuracy: 0.5712 - val_loss: 0.9607 - val_accuracy: 0.5479\n",
      "Epoch 10/10\n",
      "419/419 [==============================] - 26s 63ms/step - loss: 1.7568 - accuracy: 0.4970 - val_loss: 0.9124 - val_accuracy: 0.7013\n"
     ]
    },
    {
     "data": {
      "text/plain": [
       "<tensorflow.python.keras.callbacks.History at 0x7ff358284bd0>"
      ]
     },
     "execution_count": 69,
     "metadata": {},
     "output_type": "execute_result"
    }
   ],
   "source": [
    "# Fit data to model\n",
    "\n",
    "model.fit(train_dataset, validation_data = test_dataset,\n",
    "            batch_size=batch_size,\n",
    "            epochs=no_epochs,\n",
    "            verbose=verbosity)"
   ]
  },
  {
   "cell_type": "code",
   "execution_count": 83,
   "metadata": {},
   "outputs": [],
   "source": [
    "test_scan = np.load(os.path.join(numpy_dest, 'Flair_Array_64_Features.npy'))\n",
    "test_scan_known = np.load(os.path.join(numpy_dest, 'Flair_Array_64_Classes.npy'))\n",
    "\n",
    "[test_scan_reshaped] = resize_data([test_scan])\n"
   ]
  },
  {
   "cell_type": "code",
   "execution_count": 84,
   "metadata": {},
   "outputs": [],
   "source": [
    "temp_predicted = model.predict_classes(test_scan_reshaped)"
   ]
  },
  {
   "cell_type": "code",
   "execution_count": 85,
   "metadata": {},
   "outputs": [
    {
     "data": {
      "text/plain": [
       "(array([590231.,      0.,      0.,      0.,      0.,      0.,      0.,\n",
       "             0.,      0.,  44649.]),\n",
       " array([0. , 0.1, 0.2, 0.3, 0.4, 0.5, 0.6, 0.7, 0.8, 0.9, 1. ]),\n",
       " <a list of 10 Patch objects>)"
      ]
     },
     "execution_count": 85,
     "metadata": {},
     "output_type": "execute_result"
    },
    {
     "data": {
      "image/png": "[encoded data removed]",
      "text/plain": [
       "<Figure size 432x288 with 1 Axes>"
      ]
     },
     "metadata": {
      "needs_background": "light"
     },
     "output_type": "display_data"
    }
   ],
   "source": [
    "plt.hist(temp_predicted)"
   ]
  },
  {
   "cell_type": "code",
   "execution_count": 86,
   "metadata": {},
   "outputs": [
    {
     "data": {
      "text/plain": [
       "(634880,)"
      ]
     },
     "execution_count": 86,
     "metadata": {},
     "output_type": "execute_result"
    }
   ],
   "source": [
    "# Need to take classes and regenerate masks\n",
    "\n",
    "# Determine orig. dimensions, reshape\n",
    "\n",
    "temp_predicted.shape"
   ]
  },
  {
   "cell_type": "code",
   "execution_count": 87,
   "metadata": {},
   "outputs": [],
   "source": [
    "full_numpy_dest = numpy_dest = os.path.join(hdd_data_dir, 'NumpyArraysLSmall2D_Incl_Zeros')\n",
    "test_scan = np.load(os.path.join(full_numpy_dest, 'Flair_Array_64_Features.npy'))\n",
    "test_scan_known = np.load(os.path.join(full_numpy_dest, 'Flair_Array_64_Classes.npy'))\n",
    "\n",
    "[test_scan_reshaped] = resize_data([test_scan])\n"
   ]
  },
  {
   "cell_type": "code",
   "execution_count": 88,
   "metadata": {},
   "outputs": [
    {
     "data": {
      "text/plain": [
       "(634880, 5, 5, 1)"
      ]
     },
     "execution_count": 88,
     "metadata": {},
     "output_type": "execute_result"
    }
   ],
   "source": [
    "test_scan_reshaped.shape"
   ]
  },
  {
   "cell_type": "code",
   "execution_count": 89,
   "metadata": {},
   "outputs": [],
   "source": [
    "temp_predicted = model.predict_classes(test_scan_reshaped)"
   ]
  },
  {
   "cell_type": "code",
   "execution_count": 90,
   "metadata": {},
   "outputs": [
    {
     "data": {
      "text/plain": [
       "(array([590231.,      0.,      0.,      0.,      0.,      0.,      0.,\n",
       "             0.,      0.,  44649.]),\n",
       " array([0. , 0.1, 0.2, 0.3, 0.4, 0.5, 0.6, 0.7, 0.8, 0.9, 1. ]),\n",
       " <a list of 10 Patch objects>)"
      ]
     },
     "execution_count": 90,
     "metadata": {},
     "output_type": "execute_result"
    },
    {
     "data": {
      "image/png": "[encoded data removed]",
      "text/plain": [
       "<Figure size 432x288 with 1 Axes>"
      ]
     },
     "metadata": {
      "needs_background": "light"
     },
     "output_type": "display_data"
    }
   ],
   "source": [
    "plt.hist(temp_predicted)"
   ]
  },
  {
   "cell_type": "code",
   "execution_count": 91,
   "metadata": {},
   "outputs": [
    {
     "data": {
      "text/plain": [
       "155.0"
      ]
     },
     "execution_count": 91,
     "metadata": {},
     "output_type": "execute_result"
    }
   ],
   "source": [
    "634880/64/64\n"
   ]
  },
  {
   "cell_type": "code",
   "execution_count": 98,
   "metadata": {},
   "outputs": [],
   "source": [
    "temp_predicted = temp_predicted.reshape(64,64, 155)"
   ]
  },
  {
   "cell_type": "code",
   "execution_count": 99,
   "metadata": {},
   "outputs": [
    {
     "data": {
      "text/plain": [
       "(64, 64, 155)"
      ]
     },
     "execution_count": 99,
     "metadata": {},
     "output_type": "execute_result"
    }
   ],
   "source": [
    "temp_predicted.shape"
   ]
  },
  {
   "cell_type": "code",
   "execution_count": 100,
   "metadata": {},
   "outputs": [],
   "source": [
    "def show_slices(slices):\n",
    "    \"\"\" Function to display row of image slices \"\"\"\n",
    "    fig, axes = plt.subplots(1, len(slices))\n",
    "    for i, slice in enumerate(slices):\n",
    "        axes[i].imshow(slice.T, origin=\"lower\")"
   ]
  },
  {
   "cell_type": "code",
   "execution_count": 103,
   "metadata": {},
   "outputs": [],
   "source": [
    "test_slice_1 = temp_predicted[:,:,70]\n",
    "test_slice_2 = temp_predicted[:,:,80]\n"
   ]
  },
  {
   "cell_type": "code",
   "execution_count": 104,
   "metadata": {},
   "outputs": [
    {
     "data": {
      "image/png": "[encoded data removed]",
      "text/plain": [
       "<Figure size 432x288 with 2 Axes>"
      ]
     },
     "metadata": {
      "needs_background": "light"
     },
     "output_type": "display_data"
    }
   ],
   "source": [
    "show_slices([test_slice_1, test_slice_2])"
   ]
  },
  {
   "cell_type": "code",
   "execution_count": null,
   "metadata": {},
   "outputs": [],
   "source": []
  }
 ],
 "metadata": {
  "kernelspec": {
   "display_name": "Python 3",
   "language": "python",
   "name": "python3"
  },
  "language_info": {
   "codemirror_mode": {
    "name": "ipython",
    "version": 3
   },
   "file_extension": ".py",
   "mimetype": "text/x-python",
   "name": "python",
   "nbconvert_exporter": "python",
   "pygments_lexer": "ipython3",
   "version": "3.7.4"
  }
 },
 "nbformat": 4,
 "nbformat_minor": 2
}
